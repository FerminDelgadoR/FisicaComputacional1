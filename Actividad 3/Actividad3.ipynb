{
  "nbformat": 4,
  "nbformat_minor": 0,
  "metadata": {
    "colab": {
      "name": "Actividad3.ipynb",
      "provenance": [],
      "authorship_tag": "ABX9TyOscKL2NInvXxPPlgnYtGOD",
      "include_colab_link": true
    },
    "kernelspec": {
      "name": "python3",
      "display_name": "Python 3"
    }
  },
  "cells": [
    {
      "cell_type": "markdown",
      "metadata": {
        "id": "view-in-github",
        "colab_type": "text"
      },
      "source": [
        "<a href=\"https://colab.research.google.com/github/FerminDelgadoR/FisicaComputacional1/blob/master/Actividad3.ipynb\" target=\"_parent\"><img src=\"https://colab.research.google.com/assets/colab-badge.svg\" alt=\"Open In Colab\"/></a>"
      ]
    },
    {
      "cell_type": "code",
      "metadata": {
        "id": "66YrJdL3xgXJ"
      },
      "source": [
        "import numpy\r\n",
        "import pandas as pd\r\n",
        "\r\n",
        "#Lo primero que haremos sera que en una variable guardemos el link de acceso a nuestro archivo en Github de datos climatologicos\r\n",
        "#y sera con el que trabajaremos\r\n",
        "url = 'https://raw.githubusercontent.com/FerminDelgadoR/FisicaComputacional1/master/Actividad%203/Datos%20climatologicos.txt'\r\n",
        "#Asignamos una variable arreglo que contendra los nombres que tendran  el dataframe que crearemos\r\n",
        "my_cols=['fecha','precip','evap','tmax','tmin']\r\n",
        "#Dentro de df_dist que es nuestro dataframe, extraeremos los datos de nuestra variable 'url', especificamos que no tendra cabecera\r\n",
        "#y el nombre de las columnas esta en la variable my_cols, ademas le decimos que los datos estan separados con tabulacion y que \r\n",
        "#pueda leer palabras latinas como acentos etc. con encoding. Luego le tenemos que especificar tambien cuantas lineas iniciales se tiene que\r\n",
        "#saltar para no comerse lineas de texto y que pueda ir directo a la tabla con skiprows y con skipfooter igual solo que en las ultimas lineas\r\n",
        "df_dist = pd.read_csv(url,header=None,names=my_cols,sep='\\s+',encoding='cp1251',skiprows=19,skipfooter=1)\r\n",
        "#imprimimos los primeros cinco renglones\r\n",
        "print(df_dist.head())\r\n",
        "#imprimimos los ultimos 5 renglones\r\n",
        "print(df_dist.tail())\r\n",
        "\r\n",
        "#checamos cuantos renglones y columnas tiene el dataframe\r\n",
        "df_dist.shape\r\n",
        "\r\n",
        "#checamos el tipo de objeto que es cada columna dentro del dataframe e informacion general\r\n",
        "df_dist.info()\r\n",
        "\r\n",
        "#creamos una copia del dataframe\r\n",
        "df_work0=df_dist.copy()\r\n",
        "df_work0.head()\r\n",
        "\r\n",
        "#creamos una variable con string \"Nulo\" para buscar esa palabra en el dataframe\r\n",
        "str_Nulo = 'Nulo'\r\n",
        "\r\n",
        "#Creamos otra dataframe que todos los string que tengan la palabra nulo ahora tengan espacios vacios\r\n",
        "df_work1 = df_work0.replace(to_replace=str_Nulo, value='', regex=True)\r\n",
        "df_work1.head()\r\n",
        "\r\n",
        "\r\n",
        "#Con el fin de hacer  las columnas que sean de tipo numerico y poder manejarlas, convertimos las que podamos en valor numerico con el \r\n",
        "#siguiente for\r\n",
        "cols_list=['precip', 'evap', 'tmax','tmin']\r\n",
        "for cols in cols_list:\r\n",
        "  df_work1[cols]=pd.to_numeric(df_work1[cols],errors='coerce')\r\n",
        "\r\n",
        "df_work1.info()\r\n",
        "\r\n",
        "#checamos cuantos valores faltantes tiene cada columna\r\n",
        "df_work1.isnull().sum()\r\n",
        "\r\n"
      ],
      "execution_count": null,
      "outputs": []
    },
    {
      "cell_type": "code",
      "metadata": {
        "colab": {
          "base_uri": "https://localhost:8080/",
          "height": 288
        },
        "id": "6ziTfa_l5HGv",
        "outputId": "63234fed-7f66-49f2-bf7e-ef30cd88504b"
      },
      "source": [
        "\r\n",
        "df_work1.describe()\r\n",
        "#Podemos extraer de esta funcion varias cosas, como el numero de observacion que no son NA o nulas a traves de count,\r\n",
        "#el promedio de los datos con mean, la desviacion estandar con std, el valor minimo con min, los cuartiles que significa\r\n",
        "#cuanta poblacion se encuentra debajo de cierto porcentaje, y por ultimo el valor maximo con max,\r\n",
        "#observando los datos la columna que tenemos menos informacion es la de evap, ademas en la columna precip el valor mas caracteristico es el \r\n",
        "#0 en donde se encuentra mas del 75% de la de informacion, aunque observando la desviacion estandar que es muy grande\r\n",
        "#no se si es porque las autoridades de este sistema no reportaron y simplemente pusieron un 0 cuando querian decir nulo\r\n",
        "#y cuando ocurria una gran precipitacion ahi se reportaban, pero en general tiene valores muy grandes en compacion a la media de datos esta\r\n",
        "#columna, ademas aprendi cosas interesantes como que obregon nunca a estado a menos de -2 grados celsius desde que se toma nota, y en general\r\n",
        "#que la evaporacion siempre ronda entre los mismos resultados"
      ],
      "execution_count": 32,
      "outputs": [
        {
          "output_type": "execute_result",
          "data": {
            "text/html": [
              "<div>\n",
              "<style scoped>\n",
              "    .dataframe tbody tr th:only-of-type {\n",
              "        vertical-align: middle;\n",
              "    }\n",
              "\n",
              "    .dataframe tbody tr th {\n",
              "        vertical-align: top;\n",
              "    }\n",
              "\n",
              "    .dataframe thead th {\n",
              "        text-align: right;\n",
              "    }\n",
              "</style>\n",
              "<table border=\"1\" class=\"dataframe\">\n",
              "  <thead>\n",
              "    <tr style=\"text-align: right;\">\n",
              "      <th></th>\n",
              "      <th>precip</th>\n",
              "      <th>evap</th>\n",
              "      <th>tmax</th>\n",
              "      <th>tmin</th>\n",
              "    </tr>\n",
              "  </thead>\n",
              "  <tbody>\n",
              "    <tr>\n",
              "      <th>count</th>\n",
              "      <td>20292.000000</td>\n",
              "      <td>9638.000000</td>\n",
              "      <td>20196.000000</td>\n",
              "      <td>20196.000000</td>\n",
              "    </tr>\n",
              "    <tr>\n",
              "      <th>mean</th>\n",
              "      <td>1.031929</td>\n",
              "      <td>6.308508</td>\n",
              "      <td>32.741662</td>\n",
              "      <td>17.439186</td>\n",
              "    </tr>\n",
              "    <tr>\n",
              "      <th>std</th>\n",
              "      <td>6.147847</td>\n",
              "      <td>3.074920</td>\n",
              "      <td>5.921526</td>\n",
              "      <td>6.544247</td>\n",
              "    </tr>\n",
              "    <tr>\n",
              "      <th>min</th>\n",
              "      <td>0.000000</td>\n",
              "      <td>0.100000</td>\n",
              "      <td>11.000000</td>\n",
              "      <td>-2.000000</td>\n",
              "    </tr>\n",
              "    <tr>\n",
              "      <th>25%</th>\n",
              "      <td>0.000000</td>\n",
              "      <td>3.800000</td>\n",
              "      <td>28.000000</td>\n",
              "      <td>12.000000</td>\n",
              "    </tr>\n",
              "    <tr>\n",
              "      <th>50%</th>\n",
              "      <td>0.000000</td>\n",
              "      <td>6.200000</td>\n",
              "      <td>33.500000</td>\n",
              "      <td>17.000000</td>\n",
              "    </tr>\n",
              "    <tr>\n",
              "      <th>75%</th>\n",
              "      <td>0.000000</td>\n",
              "      <td>8.600000</td>\n",
              "      <td>37.500000</td>\n",
              "      <td>24.000000</td>\n",
              "    </tr>\n",
              "    <tr>\n",
              "      <th>max</th>\n",
              "      <td>204.000000</td>\n",
              "      <td>17.800000</td>\n",
              "      <td>46.500000</td>\n",
              "      <td>32.500000</td>\n",
              "    </tr>\n",
              "  </tbody>\n",
              "</table>\n",
              "</div>"
            ],
            "text/plain": [
              "             precip         evap          tmax          tmin\n",
              "count  20292.000000  9638.000000  20196.000000  20196.000000\n",
              "mean       1.031929     6.308508     32.741662     17.439186\n",
              "std        6.147847     3.074920      5.921526      6.544247\n",
              "min        0.000000     0.100000     11.000000     -2.000000\n",
              "25%        0.000000     3.800000     28.000000     12.000000\n",
              "50%        0.000000     6.200000     33.500000     17.000000\n",
              "75%        0.000000     8.600000     37.500000     24.000000\n",
              "max      204.000000    17.800000     46.500000     32.500000"
            ]
          },
          "metadata": {
            "tags": []
          },
          "execution_count": 32
        }
      ]
    },
    {
      "cell_type": "code",
      "metadata": {
        "colab": {
          "base_uri": "https://localhost:8080/"
        },
        "id": "ln_aoYm6hJyu",
        "outputId": "14fb90f6-aee7-4eda-a689-d97924620ede"
      },
      "source": [
        "df_work2 = df_work1.copy()\r\n",
        "#imprimimos la columna fecha su encabezado\r\n",
        "df_work2['fecha'].head()\r\n",
        "\r\n",
        "#Le especificamos a phyton que convierta los valores de la columna fecha a formato fecha y le especificamos que el primer valor sera el dia\r\n",
        "df_work2['fecha']=pd.to_datetime(df_work2['fecha'], dayfirst=True).copy()\r\n",
        "print(df_work1.head())\r\n",
        "\r\n",
        "df_work2.dtypes\r\n",
        "\r\n",
        "#Creamos una nueva columna que tenga el valor del año de la columna fecha\r\n",
        "df_work2['Año'] = df_work2['fecha'].dt.year\r\n",
        "#Creamos una nueva columna que tenga el valor del mes de la columna fecha\r\n",
        "df_work2['Mes'] = df_work2['fecha'].dt.month\r\n",
        "\r\n",
        "print(df_work2.head())\r\n",
        "print(df_work2.tail())\r\n",
        "\r\n",
        "df_work2.dtypes\r\n"
      ],
      "execution_count": 31,
      "outputs": [
        {
          "output_type": "stream",
          "text": [
            "        fecha  precip  evap  tmax  tmin\n",
            "0  01/01/1961     0.0   NaN  24.0   6.5\n",
            "1  02/01/1961     0.0   NaN  24.5   8.5\n",
            "2  03/01/1961     0.0   NaN  25.0   9.0\n",
            "3  04/01/1961     0.0   NaN  23.0   9.5\n",
            "4  05/01/1961     0.5   NaN  22.0  10.0\n",
            "       fecha  precip  evap  tmax  tmin   Año  Mes\n",
            "0 1961-01-01     0.0   NaN  24.0   6.5  1961    1\n",
            "1 1961-01-02     0.0   NaN  24.5   8.5  1961    1\n",
            "2 1961-01-03     0.0   NaN  25.0   9.0  1961    1\n",
            "3 1961-01-04     0.0   NaN  23.0   9.5  1961    1\n",
            "4 1961-01-05     0.5   NaN  22.0  10.0  1961    1\n",
            "           fecha  precip  evap  tmax  tmin   Año  Mes\n",
            "20295 2016-09-26     0.0   4.0  39.0  22.0  2016    9\n",
            "20296 2016-09-27     0.0   4.7  36.0  22.0  2016    9\n",
            "20297 2016-09-28     0.0   5.9  41.0  23.0  2016    9\n",
            "20298 2016-09-29     2.5   7.0  40.5  23.0  2016    9\n",
            "20299 2016-09-30     0.0  11.8  38.0  23.5  2016    9\n"
          ],
          "name": "stdout"
        },
        {
          "output_type": "execute_result",
          "data": {
            "text/plain": [
              "fecha     datetime64[ns]\n",
              "precip           float64\n",
              "evap             float64\n",
              "tmax             float64\n",
              "tmin             float64\n",
              "Año                int64\n",
              "Mes                int64\n",
              "dtype: object"
            ]
          },
          "metadata": {
            "tags": []
          },
          "execution_count": 31
        }
      ]
    }
  ]
}