{
  "nbformat": 4,
  "nbformat_minor": 0,
  "metadata": {
    "colab": {
      "name": "Actividad3.ipynb",
      "provenance": [],
      "authorship_tag": "ABX9TyNOQIw2rvNgcIsvlFwz7A37",
      "include_colab_link": true
    },
    "kernelspec": {
      "name": "python3",
      "display_name": "Python 3"
    }
  },
  "cells": [
    {
      "cell_type": "markdown",
      "metadata": {
        "id": "view-in-github",
        "colab_type": "text"
      },
      "source": [
        "<a href=\"https://colab.research.google.com/github/FerminDelgadoR/FisicaComputacional1/blob/master/Actividad3.ipynb\" target=\"_parent\"><img src=\"https://colab.research.google.com/assets/colab-badge.svg\" alt=\"Open In Colab\"/></a>"
      ]
    },
    {
      "cell_type": "code",
      "metadata": {
        "colab": {
          "base_uri": "https://localhost:8080/"
        },
        "id": "66YrJdL3xgXJ",
        "outputId": "e6396a44-c015-4dca-a0b7-c9d6b0870eb5"
      },
      "source": [
        "import numpy\r\n",
        "import pandas as pd\r\n",
        "\r\n",
        "#Lo primero que haremos sera que en una variable guardemos el link de acceso a nuestro archivo en Github de datos climatologicos\r\n",
        "#y sera con el que trabajaremos\r\n",
        "url = 'https://raw.githubusercontent.com/FerminDelgadoR/FisicaComputacional1/master/Actividad%203/Datos%20climatologicos.txt'\r\n",
        "#Asignamos una variable arreglo que contendra los nombres que tendran  el dataframe que crearemos\r\n",
        "my_cols=['fecha','precip','evap','tmax','tmin']\r\n",
        "#Dentro de df_dist que es nuestro dataframe, extraeremos los datos de nuestra variable 'url', especificamos que no tendra cabecera\r\n",
        "#y el nombre de las columnas esta en la variable my_cols, ademas le decimos que los datos estan separados con tabulacion y que \r\n",
        "#pueda leer palabras latinas como acentos etc. con encoding. Luego le tenemos que especificar tambien cuantas lineas iniciales se tiene que\r\n",
        "#saltar para no comerse lineas de texto y que pueda ir directo a la tabla con skiprows y con skipfooter igual solo que en las ultimas lineas\r\n",
        "df_dist = pd.read_csv(url,header=None,names=my_cols,sep='\\s+',encoding='cp1251',skiprows=19,skipfooter=1)\r\n",
        "#imprimimos los primeros cinco renglones\r\n",
        "print(df_dist.head())\r\n",
        "#imprimimos los ultimos 5 renglones\r\n",
        "print(df_dist.tail())\r\n",
        "\r\n",
        "#checamos cuantos renglones y columnas tiene el dataframe\r\n",
        "df_dist.shape\r\n",
        "\r\n",
        "#checamos el tipo de objeto que es cada columna dentro del dataframe e informacion general\r\n",
        "df_dist.info()\r\n",
        "\r\n",
        "#creamos una copia del dataframe\r\n",
        "df_work0=df_dist.copy()\r\n",
        "df_work0.head()\r\n",
        "\r\n",
        "#creamos una variable con string \"Nulo\" para buscar esa palabra en el dataframe\r\n",
        "str_Nulo = 'Nulo'\r\n",
        "\r\n",
        "#Creamos otra dataframe que todos los string que tengan la palabra nulo ahora tengan espacios vacios\r\n",
        "df_work1 = df_work0.replace(to_replace=str_Nulo, value='', regex=True)\r\n",
        "df_work1.head()\r\n",
        "\r\n",
        "\r\n",
        "#Con el fin de hacer  las columnas que sean de tipo numerico y poder manejarlas, convertimos las que podamos en valor numerico con el \r\n",
        "#siguiente for\r\n",
        "cols_list=['precip', 'evap', 'tmax','tmin']\r\n",
        "for cols in cols_list:\r\n",
        "  df_work1[cols]=pd.to_numeric(df_work1[cols],errors='coerce')\r\n",
        "\r\n",
        "df_work1.info()\r\n",
        "\r\n",
        "#checamos cuantos valores faltantes tiene cada columna\r\n",
        "df_work1.isnull().sum()\r\n"
      ],
      "execution_count": 19,
      "outputs": [
        {
          "output_type": "stream",
          "text": [
            "/usr/local/lib/python3.6/dist-packages/ipykernel_launcher.py:13: ParserWarning: Falling back to the 'python' engine because the 'c' engine does not support skipfooter; you can avoid this warning by specifying engine='python'.\n",
            "  del sys.path[0]\n"
          ],
          "name": "stderr"
        },
        {
          "output_type": "stream",
          "text": [
            "        fecha precip  evap  tmax tmin\n",
            "0  01/01/1961      0  Nulo    24  6.5\n",
            "1  02/01/1961      0  Nulo  24.5  8.5\n",
            "2  03/01/1961      0  Nulo    25    9\n",
            "3  04/01/1961      0  Nulo    23  9.5\n",
            "4  05/01/1961    0.5  Nulo    22   10\n",
            "            fecha precip  evap  tmax  tmin\n",
            "20295  26/09/2016      0     4    39    22\n",
            "20296  27/09/2016      0   4.7    36    22\n",
            "20297  28/09/2016      0   5.9    41    23\n",
            "20298  29/09/2016    2.5     7  40.5    23\n",
            "20299  30/09/2016      0  11.8    38  23.5\n",
            "<class 'pandas.core.frame.DataFrame'>\n",
            "RangeIndex: 20300 entries, 0 to 20299\n",
            "Data columns (total 5 columns):\n",
            " #   Column  Non-Null Count  Dtype \n",
            "---  ------  --------------  ----- \n",
            " 0   fecha   20300 non-null  object\n",
            " 1   precip  20300 non-null  object\n",
            " 2   evap    20300 non-null  object\n",
            " 3   tmax    20300 non-null  object\n",
            " 4   tmin    20300 non-null  object\n",
            "dtypes: object(5)\n",
            "memory usage: 793.1+ KB\n",
            "<class 'pandas.core.frame.DataFrame'>\n",
            "RangeIndex: 20300 entries, 0 to 20299\n",
            "Data columns (total 5 columns):\n",
            " #   Column  Non-Null Count  Dtype  \n",
            "---  ------  --------------  -----  \n",
            " 0   fecha   20300 non-null  object \n",
            " 1   precip  20292 non-null  float64\n",
            " 2   evap    9638 non-null   float64\n",
            " 3   tmax    20196 non-null  float64\n",
            " 4   tmin    20196 non-null  float64\n",
            "dtypes: float64(4), object(1)\n",
            "memory usage: 793.1+ KB\n"
          ],
          "name": "stdout"
        },
        {
          "output_type": "execute_result",
          "data": {
            "text/plain": [
              "fecha         0\n",
              "precip        8\n",
              "evap      10662\n",
              "tmax        104\n",
              "tmin        104\n",
              "dtype: int64"
            ]
          },
          "metadata": {
            "tags": []
          },
          "execution_count": 19
        }
      ]
    },
    {
      "cell_type": "code",
      "metadata": {
        "colab": {
          "base_uri": "https://localhost:8080/"
        },
        "id": "ln_aoYm6hJyu",
        "outputId": "86f033f8-9c81-4e0d-c937-6646cb7b3cea"
      },
      "source": [
        "df_work2 = df_work1.copy()\r\n",
        "#imprimimos la columna fecha su encabezado\r\n",
        "df_work2['fecha'].head()\r\n",
        "\r\n",
        "#Le especificamos a phyton que convierta los valores de la columna fecha a formato fecha y le especificamos que el primer valor sera el dia\r\n",
        "df_work2['fecha']=pd.to_datetime(df_work2['fecha'], dayfirst=True).copy()\r\n",
        "print(df_work1.head())\r\n",
        "\r\n",
        "df_work2.dtypes\r\n",
        "\r\n",
        "#Creamos una nueva columna que tenga el valor del año de la columna fecha\r\n",
        "df_work2['Año'] = df_work2['fecha'].dt.year\r\n",
        "#Creamos una nueva columna que tenga el valor del mes de la columna fecha\r\n",
        "df_work2['Mes'] = df_work2['fecha'].dt.month\r\n",
        "\r\n",
        "print(df_work2.head())\r\n",
        "print(df_work2.tail())\r\n",
        "\r\n",
        "df_work2.dtypes"
      ],
      "execution_count": 21,
      "outputs": [
        {
          "output_type": "stream",
          "text": [
            "        fecha  precip  evap  tmax  tmin\n",
            "0  01/01/1961     0.0   NaN  24.0   6.5\n",
            "1  02/01/1961     0.0   NaN  24.5   8.5\n",
            "2  03/01/1961     0.0   NaN  25.0   9.0\n",
            "3  04/01/1961     0.0   NaN  23.0   9.5\n",
            "4  05/01/1961     0.5   NaN  22.0  10.0\n",
            "       fecha  precip  evap  tmax  tmin   Año  Mes\n",
            "0 1961-01-01     0.0   NaN  24.0   6.5  1961    1\n",
            "1 1961-01-02     0.0   NaN  24.5   8.5  1961    1\n",
            "2 1961-01-03     0.0   NaN  25.0   9.0  1961    1\n",
            "3 1961-01-04     0.0   NaN  23.0   9.5  1961    1\n",
            "4 1961-01-05     0.5   NaN  22.0  10.0  1961    1\n",
            "           fecha  precip  evap  tmax  tmin   Año  Mes\n",
            "20295 2016-09-26     0.0   4.0  39.0  22.0  2016    9\n",
            "20296 2016-09-27     0.0   4.7  36.0  22.0  2016    9\n",
            "20297 2016-09-28     0.0   5.9  41.0  23.0  2016    9\n",
            "20298 2016-09-29     2.5   7.0  40.5  23.0  2016    9\n",
            "20299 2016-09-30     0.0  11.8  38.0  23.5  2016    9\n"
          ],
          "name": "stdout"
        },
        {
          "output_type": "execute_result",
          "data": {
            "text/plain": [
              "fecha     datetime64[ns]\n",
              "precip           float64\n",
              "evap             float64\n",
              "tmax             float64\n",
              "tmin             float64\n",
              "Año                int64\n",
              "Mes                int64\n",
              "dtype: object"
            ]
          },
          "metadata": {
            "tags": []
          },
          "execution_count": 21
        }
      ]
    }
  ]
}