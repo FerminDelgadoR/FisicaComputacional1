{
  "nbformat": 4,
  "nbformat_minor": 0,
  "metadata": {
    "colab": {
      "name": "Actividad2.ipynb",
      "provenance": [],
      "collapsed_sections": [],
      "authorship_tag": "ABX9TyOSfCE63TGItwdRjwCC0XR2",
      "include_colab_link": true
    },
    "kernelspec": {
      "name": "python3",
      "display_name": "Python 3"
    }
  },
  "cells": [
    {
      "cell_type": "markdown",
      "metadata": {
        "id": "view-in-github",
        "colab_type": "text"
      },
      "source": [
        "<a href=\"https://colab.research.google.com/github/FerminDelgadoR/FisicaComputacional1/blob/master/Actividad2.ipynb\" target=\"_parent\"><img src=\"https://colab.research.google.com/assets/colab-badge.svg\" alt=\"Open In Colab\"/></a>"
      ]
    },
    {
      "cell_type": "markdown",
      "metadata": {
        "id": "b1_ICReirhtY"
      },
      "source": [
        "Ejemplo 1\r\n"
      ]
    },
    {
      "cell_type": "code",
      "metadata": {
        "colab": {
          "base_uri": "https://localhost:8080/"
        },
        "id": "uHNwjSVEuIfc",
        "outputId": "53faded0-490f-46e2-e9ae-baf946f05911"
      },
      "source": [
        "# Se utiliza el símbolo # para hacer comentarios.\r\n",
        "# Se define una función de 2 variables para calcular el área.  \r\n",
        "def area(x, y):\r\n",
        "    return x*y\r\n",
        "\r\n",
        "print(\"Proporciona el largo y altura del rectángulo: \", end=\"\")\r\n",
        "l = float(input())\r\n",
        "w = float(input())\r\n",
        "a = area(l, w)\r\n",
        "# Imprime el valor del área en formato libre.\r\n",
        "print(\"\\nArea = \", a)\r\n",
        "# Imprime el valor del área con 2 decimales. \r\n",
        "print(\"\\nArea = {:.2f}\".format(a))"
      ],
      "execution_count": null,
      "outputs": [
        {
          "output_type": "stream",
          "text": [
            "Proporciona el largo y altura del rectángulo: 2\n",
            "3\n",
            "\n",
            "Area =  6.0\n",
            "\n",
            "Area = 6.00\n"
          ],
          "name": "stdout"
        }
      ]
    },
    {
      "cell_type": "markdown",
      "metadata": {
        "id": "G9loz18srmM4"
      },
      "source": [
        "Ejemplo 2\r\n"
      ]
    },
    {
      "cell_type": "code",
      "metadata": {
        "colab": {
          "base_uri": "https://localhost:8080/"
        },
        "id": "CDNh14BxOtSf",
        "outputId": "8c1fb2ea-cb55-4f7f-bb1e-c09ff1994f76"
      },
      "source": [
        "#Nota 2\n",
        "import numpy as np\n",
        "print(f\"A continuacion proporcione los coeficientes a,b,c de la ecuacion cuadratica a*x^2+b*x+c=0 \")\n",
        "\n",
        "\n",
        "a=float(input())\n",
        "b=float(input())\n",
        "c=float(input())\n",
        "\n",
        "if (b**2-4*a*c)<0:\n",
        "#1     1       1\n",
        "  print(\"la ecuacion no tiene solucion en los numeros reales\")\n",
        "\n",
        "if (b**2-4*a*c)==0:\n",
        "#1    -2     1\n",
        "  resul=-b/2*a\n",
        "\n",
        "  print(f\"La unica solucion real de la ecuacion es {resul}\")\n",
        "\n",
        "if np.sqrt(b**2-4*a*c)>0:\n",
        "#1     -5     6\n",
        "  resul=(-b+np.sqrt(b**2-4*a*c))/(2*a)\n",
        "  resul2=(-b-np.sqrt(b**2-4*a*c))/(2*a)\n",
        "  print(f\"Las dos soluciones reales son {resul} y {resul2}\")\n",
        "\n",
        "\n"
      ],
      "execution_count": null,
      "outputs": [
        {
          "output_type": "stream",
          "text": [
            "A continuacion proporcione los coeficientes a,b,c de la ecuacion cuadratica a*x^2+b*x+c=0 \n",
            "1\n",
            "-5\n",
            "6\n",
            "Las dos soluciones reales son 3.0 y 2.0\n"
          ],
          "name": "stdout"
        }
      ]
    },
    {
      "cell_type": "markdown",
      "metadata": {
        "id": "wTj7YP3VrvG2"
      },
      "source": [
        "Ejemplo 3\r\n"
      ]
    },
    {
      "cell_type": "code",
      "metadata": {
        "colab": {
          "base_uri": "https://localhost:8080/"
        },
        "id": "qBz7lcX9X81W",
        "outputId": "6c9fc73e-cdb2-425c-a381-d822e921c5f1"
      },
      "source": [
        "print(\"compute el numero a calcular la raiz\")\n",
        "\n",
        "s=float(input())\n",
        "aproximacion=s/10\n",
        "error=0.01\n",
        "\n",
        "while (aproximacion-s/aproximacion)>error:\n",
        "  aproximacion=(aproximacion+s/aproximacion)/2\n",
        "  print(aproximacion)\n"
      ],
      "execution_count": null,
      "outputs": [
        {
          "output_type": "stream",
          "text": [
            "compute el numero a calcular la raiz\n",
            "789121\n",
            "39461.05\n",
            "19740.523732927788\n",
            "9890.2492034433\n",
            "4985.018490326866\n",
            "2571.658500229512\n",
            "1439.2557256614846\n",
            "993.7699023342914\n",
            "893.9190121436422\n",
            "888.3423323010486\n",
            "888.3248281492504\n"
          ],
          "name": "stdout"
        }
      ]
    },
    {
      "cell_type": "markdown",
      "metadata": {
        "id": "JfntYz52r6NH"
      },
      "source": [
        "Ejejmplo 4"
      ]
    },
    {
      "cell_type": "code",
      "metadata": {
        "colab": {
          "base_uri": "https://localhost:8080/",
          "height": 640
        },
        "id": "fCtyHgjmeXAT",
        "outputId": "32b03a4e-a147-4876-e11c-0e6742ec34f6"
      },
      "source": [
        "import matplotlib.pyplot as plt\r\n",
        "import numpy as np\r\n",
        "\r\n",
        "\r\n",
        "# Gráfica de funciones\r\n",
        "# Definición de variables y funciones\r\n",
        "\r\n",
        "x = np.linspace(-1.5,1.5,100)  # arreglo de 100 puntos entre -pi y pi\r\n",
        "\r\n",
        "y = np.log(1+x)   # y será también un arreglo de 100 puntos automáticamente \r\n",
        "\r\n",
        "print(\"Introduzca el numero de aproximaciones que quiere hacer a la funcion ln(x+1)\")\r\n",
        "n=int(input())\r\n",
        "#s1 = np.array([1,n], dtype=object) \r\n",
        "s1=[]\r\n",
        "for i in range(1,n+1):\r\n",
        "      print(f\"funcion numero {i} \")\r\n",
        "      print(\"Introduzca el numero de terminos con los que quiere aproximar la funcion\")\r\n",
        "      grado=int(input())\r\n",
        "      serie=0\r\n",
        "      for j in range (1,grado+1):\r\n",
        "                \r\n",
        "                auxiliar=((-1)**(j+1))*(x**j)/(j)\r\n",
        "                serie+=auxiliar\r\n",
        "\r\n",
        "      s1.append(serie)\r\n",
        "\r\n",
        "plt.subplot(111)\r\n",
        "\r\n",
        "plt.xlabel(\"X \")\r\n",
        "\r\n",
        "plt.ylabel(\"Y \")\r\n",
        "\r\n",
        "plt.title(\"Aproximaciones a ln(1+x)\")\r\n",
        "\r\n",
        "plt.plot(x,y, label=\"ln(x+1)\")\r\n",
        "\r\n",
        "for i in range(0,n):\r\n",
        "    print(i)\r\n",
        "    plt.plot(x,s1[i])\r\n",
        "\r\n",
        "plt.grid(True)\r\n",
        "\r\n",
        "plt.ylim(-4, 2)\r\n",
        "\r\n",
        "plt.legend(bbox_to_anchor=(1,1), loc=\"upper left\")\r\n",
        "\r\n",
        "plt.show()\r\n",
        "\r\n"
      ],
      "execution_count": null,
      "outputs": [
        {
          "output_type": "stream",
          "text": [
            "/usr/local/lib/python3.6/dist-packages/ipykernel_launcher.py:10: RuntimeWarning: invalid value encountered in log\n",
            "  # Remove the CWD from sys.path while we load stuff.\n"
          ],
          "name": "stderr"
        },
        {
          "output_type": "stream",
          "text": [
            "Introduzca el numero de aproximaciones que quiere hacer a la funcion ln(x+1)\n",
            "4\n",
            "funcion numero 1 \n",
            "Introduzca el numero de terminos con los que quiere aproximar la funcion\n",
            "4\n",
            "funcion numero 2 \n",
            "Introduzca el numero de terminos con los que quiere aproximar la funcion\n",
            "7\n",
            "funcion numero 3 \n",
            "Introduzca el numero de terminos con los que quiere aproximar la funcion\n",
            "11\n",
            "funcion numero 4 \n",
            "Introduzca el numero de terminos con los que quiere aproximar la funcion\n",
            "16\n",
            "0\n",
            "1\n",
            "2\n",
            "3\n"
          ],
          "name": "stdout"
        },
        {
          "output_type": "display_data",
          "data": {
            "image/png": "[encoded data removed]",
            "text/plain": [
              "<Figure size 432x288 with 1 Axes>"
            ]
          },
          "metadata": {
            "tags": [],
            "needs_background": "light"
          }
        }
      ]
    },
    {
      "cell_type": "markdown",
      "metadata": {
        "id": "26UGNsiYr9WX"
      },
      "source": [
        "Anotaciones"
      ]
    },
    {
      "cell_type": "code",
      "metadata": {
        "colab": {
          "base_uri": "https://localhost:8080/"
        },
        "id": "BLE3vMMiUjLn",
        "outputId": "5835a131-0462-4deb-c299-6e556a509263"
      },
      "source": [
        "grado=6\r\n",
        "\r\n",
        "for x in range(1,grado+1):\r\n",
        "        print(x)"
      ],
      "execution_count": null,
      "outputs": [
        {
          "output_type": "stream",
          "text": [
            "1\n",
            "2\n",
            "3\n",
            "4\n",
            "5\n",
            "6\n"
          ],
          "name": "stdout"
        }
      ]
    },
    {
      "cell_type": "code",
      "metadata": {
        "colab": {
          "base_uri": "https://localhost:8080/",
          "height": 295
        },
        "id": "EvP9sulxbFbz",
        "outputId": "ef7f99cc-8a61-4d75-c0de-700ed2066c48"
      },
      "source": [
        "# Cargar la subbiblioteca pytlot de Matplotlib \r\n",
        "\r\n",
        "import matplotlib.pyplot as plt\r\n",
        "import numpy as np\r\n",
        "\r\n",
        "\r\n",
        "# Gráfica de funciones\r\n",
        "# Definición de variables y funciones\r\n",
        "\r\n",
        "x = np.linspace(-np.pi,np.pi,100)  # arrego de 100 puntos entre -pi y pi\r\n",
        "\r\n",
        "y = np.sin(x)      # y será también un arreglo de 100 puntos automáticamente \r\n",
        "\r\n",
        "y1 = x\r\n",
        "\r\n",
        "y3 = x**3/(3*2)\r\n",
        "\r\n",
        "y5 = x**5/(5*4*3*2)\r\n",
        "\r\n",
        "sT = y1 - y3 + y5 # Serie de Taylor de sin(x) a 5o. Orden.\r\n",
        "\r\n",
        " \r\n",
        "\r\n",
        "# Creación de la gráficas\r\n",
        "\r\n",
        "plt.subplot(111)\r\n",
        "\r\n",
        "plt.xlabel(\"X label\")\r\n",
        "\r\n",
        "plt.ylabel(\"Y label\")\r\n",
        "\r\n",
        "plt.title(\"Title\")\r\n",
        "\r\n",
        "\r\n",
        "# Graficar varias funciones\r\n",
        "\r\n",
        "plt.plot(x,y, label=\"sin(x)\")\r\n",
        "\r\n",
        "plt.plot(x,y1, label='x')\r\n",
        "\r\n",
        "plt.plot(x,sT, label='Serie Taylor Orden 5')\r\n",
        "\r\n",
        "# Agregar una malla\r\n",
        "\r\n",
        "plt.grid(True)\r\n",
        "\r\n",
        "# Fijar los límites en el eje Y.\r\n",
        "\r\n",
        "plt.ylim(-2, 2)\r\n",
        "\r\n",
        "# Ubicación de las etiquetas de las funciones\r\n",
        "\r\n",
        "plt.legend(bbox_to_anchor=(1,1), loc=\"upper left\")\r\n",
        "\r\n",
        "plt.show()\r\n",
        "\r\n",
        "#plt.savefig('plot.png')  # Si se desea guardar en un archivo la imagen de la gráfica"
      ],
      "execution_count": null,
      "outputs": [
        {
          "output_type": "display_data",
          "data": {
            "image/png": "[encoded data removed]",
            "text/plain": [
              "<Figure size 432x288 with 1 Axes>"
            ]
          },
          "metadata": {
            "tags": [],
            "needs_background": "light"
          }
        }
      ]
    },
    {
      "cell_type": "code",
      "metadata": {
        "colab": {
          "base_uri": "https://localhost:8080/"
        },
        "id": "Ec4ydQS5xs6r",
        "outputId": "503e3697-1171-49a4-b78a-0397f9a58279"
      },
      "source": [
        "x = 3\r\n",
        "\r\n",
        "y = 2\r\n",
        "\r\n",
        "z = 1\r\n",
        "\r\n",
        "if x == y:\r\n",
        "\r\n",
        "     print(\"Hola\")\r\n",
        "\r\n",
        "elif x == z:\r\n",
        "\r\n",
        "     print(\"Hasta luego\")\r\n",
        "\r\n",
        "else:\r\n",
        "\r\n",
        "     print(\"???\")\r\n",
        "\r\n",
        "\r\n",
        "print(\"loop 1\")\r\n",
        "\r\n",
        "for i in range(5): # default - comienza en 0, incrementa en 1\r\n",
        "\r\n",
        "     print(i)\r\n",
        "\r\n",
        " \r\n",
        "\r\n",
        "print(\"\\nloop 2\")\r\n",
        "\r\n",
        "for i in range(10, 2, -2): # entradas: inicio, fin, tamaño de paso \r\n",
        "\r\n",
        "     print(i)"
      ],
      "execution_count": null,
      "outputs": [
        {
          "output_type": "stream",
          "text": [
            "???\n",
            "loop 1\n",
            "0\n",
            "1\n",
            "2\n",
            "3\n",
            "4\n",
            "\n",
            "loop 2\n",
            "10\n",
            "8\n",
            "6\n",
            "4\n"
          ],
          "name": "stdout"
        }
      ]
    },
    {
      "cell_type": "code",
      "metadata": {
        "colab": {
          "base_uri": "https://localhost:8080/"
        },
        "id": "n_g0j1a_8ccE",
        "outputId": "a106a913-fb79-449c-9cb6-a3aec3eb33c8"
      },
      "source": [
        "lista1=[1,'2',3,4]\n",
        "lista2=[1.,2,'3',4]\n",
        "\n",
        "print(f\"Suma de listas es {lista1+lista2}\")"
      ],
      "execution_count": null,
      "outputs": [
        {
          "output_type": "stream",
          "text": [
            "Suma de listas es [1, '2', 3, 4, 1.0, 2, '3', 4]\n"
          ],
          "name": "stdout"
        }
      ]
    },
    {
      "cell_type": "code",
      "metadata": {
        "colab": {
          "base_uri": "https://localhost:8080/"
        },
        "id": "kA1rfXGl9SYh",
        "outputId": "f491455d-8af7-44b5-9367-0839fec6fe7c"
      },
      "source": [
        "import numpy as np #el as np abrevia el nombre de la libreria como queramos para luego llamarla\n",
        "\n",
        "my_array = np.array([1,2.,3,4])\n",
        "\n",
        "print(my_array)\n",
        "print(my_array.dtype) #me dice el tipo del vector"
      ],
      "execution_count": null,
      "outputs": [
        {
          "output_type": "stream",
          "text": [
            "[1. 2. 3. 4.]\n",
            "float64\n"
          ],
          "name": "stdout"
        }
      ]
    },
    {
      "cell_type": "code",
      "metadata": {
        "colab": {
          "base_uri": "https://localhost:8080/"
        },
        "id": "1a7cIX6y09oj",
        "outputId": "d0e202f9-6a11-445a-8757-9cdcd38d5507"
      },
      "source": [
        "i = 1\r\n",
        "\r\n",
        "while i < 100:\r\n",
        "\r\n",
        "     print(i**2)\r\n",
        "\r\n",
        "     i += i**2 # a += b es notación compacta de a = a + b\r\n",
        "     print(i)"
      ],
      "execution_count": null,
      "outputs": [
        {
          "output_type": "stream",
          "text": [
            "1\n",
            "2\n",
            "4\n",
            "6\n",
            "36\n",
            "42\n",
            "1764\n",
            "1806\n"
          ],
          "name": "stdout"
        }
      ]
    },
    {
      "cell_type": "code",
      "metadata": {
        "colab": {
          "base_uri": "https://localhost:8080/"
        },
        "id": "FhJ_xmjD2jVi",
        "outputId": "7f0dcb6d-2eeb-4ca9-e02e-a2585f487c95"
      },
      "source": [
        "for num in range(2, 10):\r\n",
        "\r\n",
        "     if num % 2 == 0:\r\n",
        "\r\n",
        "          continue # se regresa al inicio\r\n",
        "\r\n",
        "     print(f\"Encontrado {num}, un número impar\")"
      ],
      "execution_count": null,
      "outputs": [
        {
          "output_type": "stream",
          "text": [
            "Encontrado 3, un número impar\n",
            "Encontrado 5, un número impar\n",
            "Encontrado 7, un número impar\n",
            "Encontrado 9, un número impar\n"
          ],
          "name": "stdout"
        }
      ]
    },
    {
      "cell_type": "code",
      "metadata": {
        "colab": {
          "base_uri": "https://localhost:8080/"
        },
        "id": "RBCVGnGo3d4J",
        "outputId": "e46cb73e-4be6-426b-be3f-607bf3493007"
      },
      "source": [
        "n = 64\r\n",
        "#la combinacion // es una division entre enteros\r\n",
        "for x in range(2, n):\r\n",
        "\r\n",
        "     if n % x == 0: # si n es divisible por x (modulo 0)\r\n",
        "\r\n",
        "          print(f'{n} igual {x} * {n // x}')\r\n",
        "\r\n",
        "          break"
      ],
      "execution_count": null,
      "outputs": [
        {
          "output_type": "stream",
          "text": [
            "64 igual 2 * 32\n"
          ],
          "name": "stdout"
        }
      ]
    },
    {
      "cell_type": "code",
      "metadata": {
        "id": "jpoT6r7O5bex",
        "colab": {
          "base_uri": "https://localhost:8080/"
        },
        "outputId": "7cb433d6-e3bf-4bc1-df6f-69d9ae9298aa"
      },
      "source": [
        "for i in range(5):\r\n",
        "\r\n",
        "     for j in range(5*i):\r\n",
        "\r\n",
        "          if j == 10:\r\n",
        "\r\n",
        "               print(j)\r\n",
        "\r\n",
        "               break"
      ],
      "execution_count": null,
      "outputs": [
        {
          "output_type": "stream",
          "text": [
            "10\n",
            "10\n"
          ],
          "name": "stdout"
        }
      ]
    },
    {
      "cell_type": "code",
      "metadata": {
        "colab": {
          "base_uri": "https://localhost:8080/"
        },
        "id": "g0QgOuH4yDtK",
        "outputId": "11db7910-b66e-4e52-ecf5-93c37483b474"
      },
      "source": [
        "1==2\r\n",
        "\r\n"
      ],
      "execution_count": null,
      "outputs": [
        {
          "output_type": "execute_result",
          "data": {
            "text/plain": [
              "False"
            ]
          },
          "metadata": {
            "tags": []
          },
          "execution_count": 2
        }
      ]
    },
    {
      "cell_type": "markdown",
      "metadata": {
        "id": "JLygF8GYvCYx"
      },
      "source": [
        "$$\\sqrt{x^2+y^2}$$\r\n"
      ]
    }
  ]
}